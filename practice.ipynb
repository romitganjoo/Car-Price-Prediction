{
 "cells": [
  {
   "cell_type": "code",
   "execution_count": 21,
   "id": "0371808f",
   "metadata": {},
   "outputs": [],
   "source": [
    "def anagram(s1,s2):\n",
    "    \n",
    "    s1=s1.replace(' ','').lower()\n",
    "    s2=s2.replace(' ','').lower()\n",
    "    \n",
    "    count={}\n",
    "    if len(s1)==len(s2):\n",
    "        for alphab in s1:\n",
    "            if alphab in count:\n",
    "                count[alphab] += 1\n",
    "            else:\n",
    "                count[alphab] = 1\n",
    "        for alphab in s2:\n",
    "            if alphab in count:\n",
    "                count[alphab] -= 1\n",
    "            else:\n",
    "                count[alphab] = -1\n",
    "    \n",
    "    else:\n",
    "        return(False)\n",
    "    \n",
    "    for k in count:\n",
    "        if count[k]==0:\n",
    "            return(True)\n",
    "    return(True)"
   ]
  },
  {
   "cell_type": "code",
   "execution_count": 23,
   "id": "b5dbcbc8",
   "metadata": {},
   "outputs": [
    {
     "data": {
      "text/plain": [
       "False"
      ]
     },
     "execution_count": 23,
     "metadata": {},
     "output_type": "execute_result"
    }
   ],
   "source": [
    "anagram('clint','old west action')\n"
   ]
  },
  {
   "cell_type": "code",
   "execution_count": 41,
   "id": "32c27be3",
   "metadata": {},
   "outputs": [],
   "source": [
    "def pair(arr,k):\n",
    "    \n",
    "    seen = set()\n",
    "    output = set()\n",
    "    \n",
    "    for i in arr:\n",
    "        target =  k-i\n",
    "        if target not in seen:\n",
    "            seen.add(i)\n",
    "        else:\n",
    "            output.add((min(i,target),max(i,target)))\n",
    "    print('\\n'.join(map(str, list(output))))\n"
   ]
  },
  {
   "cell_type": "code",
   "execution_count": 44,
   "id": "ba3932b2",
   "metadata": {},
   "outputs": [
    {
     "name": "stdout",
     "output_type": "stream",
     "text": [
      "(2, 4)\n"
     ]
    }
   ],
   "source": [
    "pair([1,2,2,2,3,4],6)"
   ]
  },
  {
   "cell_type": "code",
   "execution_count": 5,
   "id": "2cb0b8d6",
   "metadata": {},
   "outputs": [],
   "source": [
    "def finder(arr1,arr2):\n",
    "    count = 0\n",
    "    for i in arr1:\n",
    "        count += i\n",
    "        #print(count)\n",
    "    for i in arr2:\n",
    "        count -= i\n",
    "        #print(count)\n",
    "    print(count)\n",
    "    "
   ]
  },
  {
   "cell_type": "code",
   "execution_count": 6,
   "id": "d40f17f6",
   "metadata": {},
   "outputs": [
    {
     "name": "stdout",
     "output_type": "stream",
     "text": [
      "5\n"
     ]
    }
   ],
   "source": [
    "finder([5,5,7,7],[5,7,7])\n"
   ]
  },
  {
   "cell_type": "code",
   "execution_count": 12,
   "id": "af5ab790",
   "metadata": {},
   "outputs": [],
   "source": [
    "def finder1(arr1,arr2):\n",
    "    result = 0\n",
    "    for num in arr1+arr2:\n",
    "        result ^= num\n",
    "        print(result)\n",
    "    return result"
   ]
  },
  {
   "cell_type": "code",
   "execution_count": 13,
   "id": "fac08a72",
   "metadata": {},
   "outputs": [
    {
     "name": "stdout",
     "output_type": "stream",
     "text": [
      "5\n",
      "0\n",
      "7\n",
      "0\n",
      "5\n",
      "2\n",
      "5\n"
     ]
    },
    {
     "data": {
      "text/plain": [
       "5"
      ]
     },
     "execution_count": 13,
     "metadata": {},
     "output_type": "execute_result"
    }
   ],
   "source": [
    "finder1([5,5,7,7],[5,7,7])\n"
   ]
  },
  {
   "cell_type": "code",
   "execution_count": 11,
   "id": "29c343f3",
   "metadata": {},
   "outputs": [
    {
     "name": "stdout",
     "output_type": "stream",
     "text": [
      "0\n",
      "1\n",
      "2\n",
      "3\n",
      "4\n",
      "5\n",
      "[5, 7, 8, 2, 0]\n"
     ]
    }
   ],
   "source": [
    "a = [14,5,7,8,2,0]\n",
    "for i in range(len(a)):\n",
    "    print(i)\n",
    "b = a[1:len(a)]\n",
    "print(b)"
   ]
  },
  {
   "cell_type": "code",
   "execution_count": 12,
   "id": "6b51d261",
   "metadata": {},
   "outputs": [
    {
     "name": "stdout",
     "output_type": "stream",
     "text": [
      "1\n"
     ]
    }
   ],
   "source": [
    "a=[1,1]\n",
    "print(min(a[0],a[1]))"
   ]
  },
  {
   "cell_type": "code",
   "execution_count": 21,
   "id": "4a320882",
   "metadata": {},
   "outputs": [
    {
     "name": "stdout",
     "output_type": "stream",
     "text": [
      "17\n"
     ]
    }
   ],
   "source": [
    "height = [2,3,4,5,18,17,6]\n",
    "l = 0 \n",
    "r = len(height)-1\n",
    "area= 0\n",
    "while l<r:\n",
    "    area = max(area,min((height[l],height[r])*(r-1)))\n",
    "    \n",
    "    if height[l]<height[r]:\n",
    "        l  +=1\n",
    "    else:\n",
    "        r -=1\n",
    "    print(area)"
   ]
  },
  {
   "cell_type": "code",
   "execution_count": 22,
   "id": "f145d88c",
   "metadata": {},
   "outputs": [],
   "source": [
    "def maxcontsum(arr):\n",
    "    msf = 0\n",
    "    msh = 0\n",
    "    for i in range(len(arr)):\n",
    "        msh = msh + arr[i]\n",
    "        if msf < msh:\n",
    "            msf = msh\n",
    "        if msh < 0:\n",
    "            msh = 0\n",
    "    return msf"
   ]
  },
  {
   "cell_type": "code",
   "execution_count": 23,
   "id": "b715c296",
   "metadata": {},
   "outputs": [
    {
     "data": {
      "text/plain": [
       "29"
      ]
     },
     "execution_count": 23,
     "metadata": {},
     "output_type": "execute_result"
    }
   ],
   "source": [
    "maxcontsum([1,2,-1,3,4,10,10,-10,-1])"
   ]
  },
  {
   "cell_type": "code",
   "execution_count": 26,
   "id": "0e63d33d",
   "metadata": {},
   "outputs": [],
   "source": [
    "def maxSubArraySum(a):\n",
    "     \n",
    "    max_so_far =a[0]\n",
    "    curr_max = a[0]\n",
    "     \n",
    "    for i in range(1,len(a)):\n",
    "        curr_max = max(a[i], curr_max + a[i])\n",
    "        max_so_far = max(max_so_far,curr_max)\n",
    "         \n",
    "    return max_so_far"
   ]
  },
  {
   "cell_type": "code",
   "execution_count": 30,
   "id": "031fd0e2",
   "metadata": {},
   "outputs": [
    {
     "data": {
      "text/plain": [
       "29"
      ]
     },
     "execution_count": 30,
     "metadata": {},
     "output_type": "execute_result"
    }
   ],
   "source": [
    "maxSubArraySum([1,2,-1,3,4,10,10,-10,-1])"
   ]
  },
  {
   "cell_type": "code",
   "execution_count": 5,
   "id": "1c37f2d1",
   "metadata": {},
   "outputs": [
    {
     "name": "stdout",
     "output_type": "stream",
     "text": [
      "[0, 1]\n"
     ]
    }
   ],
   "source": [
    "nums = [2,7,5,9,1]\n",
    "target = 9\n",
    "kval = {}\n",
    "rem = 0\n",
    "for i, value in enumerate(nums):\n",
    "    rem = target - nums[i]\n",
    "    if rem in kval:\n",
    "        print([kval[rem],i])\n",
    "    kval[value] = i\n",
    "    "
   ]
  },
  {
   "cell_type": "code",
   "execution_count": 26,
   "id": "92d029fd",
   "metadata": {},
   "outputs": [
    {
     "name": "stdout",
     "output_type": "stream",
     "text": [
      "[1, 3, 5, 6, 2, 5, 6]\n"
     ]
    }
   ],
   "source": [
    "\n",
    "\n"
   ]
  },
  {
   "cell_type": "code",
   "execution_count": null,
   "id": "04120161",
   "metadata": {},
   "outputs": [],
   "source": []
  }
 ],
 "metadata": {
  "kernelspec": {
   "display_name": "Python 3",
   "language": "python",
   "name": "python3"
  },
  "language_info": {
   "codemirror_mode": {
    "name": "ipython",
    "version": 3
   },
   "file_extension": ".py",
   "mimetype": "text/x-python",
   "name": "python",
   "nbconvert_exporter": "python",
   "pygments_lexer": "ipython3",
   "version": "3.8.8"
  }
 },
 "nbformat": 4,
 "nbformat_minor": 5
}
